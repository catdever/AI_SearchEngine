{
  "nbformat": 4,
  "nbformat_minor": 0,
  "metadata": {
    "colab": {
      "name": "Blenderbot2SearchEngineExample.py",
      "provenance": [],
      "collapsed_sections": []
    },
    "kernelspec": {
      "name": "python3",
      "display_name": "Python 3"
    },
    "language_info": {
      "name": "python"
    }
  },
  "cells": [
    {
      "cell_type": "code",
      "metadata": {
        "colab": {
          "base_uri": "https://localhost:8080/"
        },
        "id": "QM4ftkqa_rFO",
        "outputId": "28d7f50c-2344-42f3-ced1-338fd44b263f"
      },
      "source": [
        "# Install the latest version of ParlAI from source.\n",
        "# This is important, otherwise using Blenderbot 2.0 will not work.\n",
        "!pip uninstall -q parlai -y \n",
        "!pip install -q  --progress-bar off git+https://github.com/facebookresearch/ParlAI.git \n",
        "\n",
        "# Install fairseq. This is required for Blenderbot 2\n",
        "!pip install fairseq\n",
        "\n",
        "# Clone the server and install its requirements\n",
        "!git clone https://github.com/JulesGM/ParlAI_SearchEngine.git\n",
        "!pip install -q  --progress-bar off -r ParlAI_SearchEngine/requirements.txt"
      ],
      "execution_count": null,
      "outputs": [
        {
          "output_type": "stream",
          "text": [
            "\u001b[33mWARNING: Skipping parlai as it is not installed.\u001b[0m\n",
            "  Installing build dependencies ... \u001b[?25l\u001b[?25hdone\n",
            "  Getting requirements to build wheel ... \u001b[?25l\u001b[?25hdone\n",
            "    Preparing wheel metadata ... \u001b[?25l\u001b[?25hdone\n",
            "\u001b[?25l\n",
            "\u001b[?25h\u001b[?25l\n",
            "\u001b[?25h\u001b[?25l\n",
            "\u001b[?25h\u001b[?25l\n",
            "\u001b[?25h\u001b[?25l\n",
            "\u001b[?25h\u001b[?25l\n",
            "\u001b[?25h\u001b[?25l\n",
            "\u001b[?25h\u001b[?25l\n",
            "\u001b[?25h\u001b[?25l\n",
            "\u001b[?25h\u001b[?25l\n",
            "\u001b[?25h\u001b[?25l\n",
            "\u001b[?25h\u001b[?25l\n",
            "\u001b[?25h\u001b[?25l\n",
            "\u001b[?25h\u001b[?25l\n",
            "\u001b[?25h\u001b[?25l\n",
            "\u001b[?25h\u001b[?25l\n",
            "\u001b[?25h\u001b[?25l\n",
            "\u001b[?25h\u001b[?25l\n",
            "\u001b[?25h\u001b[?25l\n",
            "\u001b[?25h\u001b[?25l\n",
            "\u001b[?25h\u001b[?25l\n",
            "\u001b[?25h\u001b[?25l\n",
            "\u001b[?25h\u001b[?25l\n",
            "\u001b[?25h\u001b[?25l\n",
            "\u001b[?25h\u001b[?25l\n",
            "\u001b[?25h\u001b[?25l\n",
            "\u001b[?25h\u001b[?25l\n",
            "\u001b[?25h\u001b[?25l\n",
            "\u001b[?25h\u001b[?25l\n",
            "\u001b[?25h\u001b[?25l\n",
            "\u001b[?25h\u001b[?25l\n",
            "\u001b[?25h\u001b[?25l\n",
            "\u001b[?25h\u001b[?25l\n",
            "\u001b[?25h\u001b[?25l\n",
            "\u001b[?25h\u001b[?25l\n",
            "\u001b[?25h\u001b[?25l\n",
            "\u001b[?25h\u001b[?25l\n",
            "\u001b[?25h\u001b[?25l\n",
            "\u001b[?25h\u001b[?25l\n",
            "\u001b[?25h  Building wheel for parlai (PEP 517) ... \u001b[?25l\u001b[?25hdone\n",
            "  Building wheel for antlr4-python3-runtime (setup.py) ... \u001b[?25l\u001b[?25hdone\n",
            "  Building wheel for docformatter (setup.py) ... \u001b[?25l\u001b[?25hdone\n",
            "  Building wheel for emoji (setup.py) ... \u001b[?25l\u001b[?25hdone\n",
            "  Building wheel for untokenize (setup.py) ... \u001b[?25l\u001b[?25hdone\n",
            "\u001b[31mERROR: pip's dependency resolver does not currently take into account all the packages that are installed. This behaviour is the source of the following dependency conflicts.\n",
            "google-colab 1.0.0 requires requests~=2.23.0, but you have requests 2.26.0 which is incompatible.\n",
            "datascience 0.10.6 requires folium==0.2.1, but you have folium 0.8.3 which is incompatible.\u001b[0m\n",
            "Collecting fairseq\n",
            "  Downloading fairseq-0.10.2-cp37-cp37m-manylinux1_x86_64.whl (1.7 MB)\n",
            "\u001b[K     |████████████████████████████████| 1.7 MB 5.1 MB/s \n",
            "\u001b[?25hCollecting dataclasses\n",
            "  Downloading dataclasses-0.6-py3-none-any.whl (14 kB)\n",
            "Requirement already satisfied: torch in /usr/local/lib/python3.7/dist-packages (from fairseq) (1.9.0+cu102)\n",
            "Requirement already satisfied: regex in /usr/local/lib/python3.7/dist-packages (from fairseq) (2019.12.20)\n",
            "Requirement already satisfied: cython in /usr/local/lib/python3.7/dist-packages (from fairseq) (0.29.23)\n",
            "Requirement already satisfied: cffi in /usr/local/lib/python3.7/dist-packages (from fairseq) (1.14.6)\n",
            "Collecting sacrebleu>=1.4.12\n",
            "  Downloading sacrebleu-1.5.1-py3-none-any.whl (54 kB)\n",
            "\u001b[K     |████████████████████████████████| 54 kB 2.7 MB/s \n",
            "\u001b[?25hRequirement already satisfied: numpy in /usr/local/lib/python3.7/dist-packages (from fairseq) (1.19.5)\n",
            "Requirement already satisfied: hydra-core in /usr/local/lib/python3.7/dist-packages (from fairseq) (1.0.7)\n",
            "Requirement already satisfied: tqdm in /usr/local/lib/python3.7/dist-packages (from fairseq) (4.38.0)\n",
            "Collecting portalocker==2.0.0\n",
            "  Downloading portalocker-2.0.0-py2.py3-none-any.whl (11 kB)\n",
            "Requirement already satisfied: pycparser in /usr/local/lib/python3.7/dist-packages (from cffi->fairseq) (2.20)\n",
            "Requirement already satisfied: antlr4-python3-runtime==4.8 in /usr/local/lib/python3.7/dist-packages (from hydra-core->fairseq) (4.8)\n",
            "Requirement already satisfied: importlib-resources in /usr/local/lib/python3.7/dist-packages (from hydra-core->fairseq) (5.2.0)\n",
            "Requirement already satisfied: omegaconf<2.1,>=2.0.5 in /usr/local/lib/python3.7/dist-packages (from hydra-core->fairseq) (2.0.6)\n",
            "Requirement already satisfied: PyYAML>=5.1.* in /usr/local/lib/python3.7/dist-packages (from omegaconf<2.1,>=2.0.5->hydra-core->fairseq) (5.4.1)\n",
            "Requirement already satisfied: typing-extensions in /usr/local/lib/python3.7/dist-packages (from omegaconf<2.1,>=2.0.5->hydra-core->fairseq) (3.7.4.3)\n",
            "Requirement already satisfied: zipp>=3.1.0 in /usr/local/lib/python3.7/dist-packages (from importlib-resources->hydra-core->fairseq) (3.5.0)\n",
            "Installing collected packages: portalocker, sacrebleu, dataclasses, fairseq\n",
            "  Attempting uninstall: portalocker\n",
            "    Found existing installation: portalocker 2.3.0\n",
            "    Uninstalling portalocker-2.3.0:\n",
            "      Successfully uninstalled portalocker-2.3.0\n",
            "Successfully installed dataclasses-0.6 fairseq-0.10.2 portalocker-2.0.0 sacrebleu-1.5.1\n",
            "Cloning into 'ParlAI_SearchEngine'...\n",
            "remote: Enumerating objects: 63, done.\u001b[K\n",
            "remote: Counting objects: 100% (63/63), done.\u001b[K\n",
            "remote: Compressing objects: 100% (49/49), done.\u001b[K\n",
            "remote: Total 63 (delta 26), reused 50 (delta 13), pack-reused 0\u001b[K\n",
            "Unpacking objects: 100% (63/63), done.\n",
            "\u001b[?25l\n",
            "\u001b[?25h\u001b[?25l\n",
            "\u001b[?25h\u001b[?25l\n",
            "\u001b[?25h  Building wheel for fire (setup.py) ... \u001b[?25l\u001b[?25hdone\n"
          ],
          "name": "stdout"
        }
      ]
    },
    {
      "cell_type": "code",
      "metadata": {
        "id": "sNiDF1HBAD5I"
      },
      "source": [
        "import os\n",
        "import multiprocess\n",
        "import shlex\n",
        "import subprocess\n",
        "import threading\n",
        "import time\n",
        "PATH_TO_SEARCH_SERVER = \"./ParlAI_SearchEngine/search_server.py\"\n",
        "assert os.path.exists(PATH_TO_SEARCH_SERVER), (\n",
        "    f\"Incorrect path {PATH_TO_SEARCH_SERVER}\"\n",
        ")\n",
        "\n",
        "# def start_server():\n",
        "#     command = [\"python\", PATH_TO_SEARCH_SERVER, \"serve\"]\n",
        "#     print(\"Starting with command\", command)\n",
        "#     os.system(shlex.join(command))\n",
        "\n",
        "# multiprocess.Process(target=start_server).start()\n",
        "# threading.Thread(target=start_server).start()\n",
        "\n",
        "# We escape the command appropriately.\n",
        "HOST = \"0.0.0.0:1111\"\n",
        "command = [\"python\", \"-u\", shlex.quote(PATH_TO_SEARCH_SERVER), \n",
        "           \"serve\", \"--host\", HOST]\n",
        "command_str = \" \".join(command)\n",
        "p = subprocess.Popen(\n",
        "    command, \n",
        "    stderr=subprocess.STDOUT,\n",
        "    stdout=subprocess.PIPE,\n",
        ")\n",
        "\n",
        "# Wait a bit before the next cell to let a lot of the potential errors happen.\n",
        "time.sleep(1)"
      ],
      "execution_count": null,
      "outputs": []
    },
    {
      "cell_type": "code",
      "metadata": {
        "id": "E02KURghGWiW"
      },
      "source": [
        "# Test If the server crashed. \n",
        "# You can rerun this cell to check if the server crashed. \n",
        "if p.poll() is not None: \n",
        "    print(p.communicate()[0].decode())\n",
        "    # If this says that the adress is already used, then it is very likely that\n",
        "    # you already started a server with a different Process object than p."
      ],
      "execution_count": null,
      "outputs": []
    },
    {
      "cell_type": "code",
      "metadata": {
        "colab": {
          "base_uri": "https://localhost:8080/"
        },
        "id": "EkTzYpOOfoTa",
        "outputId": "bc8411c9-4d70-4482-eb98-3172459cde9f"
      },
      "source": [
        "# Make sure we get a reasonable response.\n",
        "# Should be a list of json objects with a title, a content and an url field.\n",
        "!curl -X POST $HOST -d \"q=baseball&n=1\""
      ],
      "execution_count": null,
      "outputs": [
        {
          "output_type": "stream",
          "text": [
            "{\"response\": [{\"title\": \"Fantasy baseball daily notes - Pitcher and hitter rankings for Wednesday\", \"content\": \"Skip to main content  Skip to navigation\\n\\n<\\n\\n>\\n\\nMenu\\n\\n# ESPN\\n\\n  *   *   * scores\\n\\n  * NFL\\n  * NBA\\n  * MLB\\n  * Soccer\\n  * Olympic Sports\\n  * NHL\\n  * \\u2026\\n\\n    * MMA\\n    * Golf\\n    * WNBA\\n    * Boxing\\n    * CFL\\n    * Chalk\\n    * NCAA\\n    * Cricket\\n    * F1\\n    * NASCAR\\n    * NBA G League\\n    * NCAAF\\n    * NCAAM\\n    * NCAAW\\n    * Racing\\n    * RN BB\\n    * RN FB\\n    * Rugby\\n    * Tennis\\n    * WWE\\n    * X Games\\n\\n  * More ESPN\\n  * Fantasy\\n  * Listen\\n  * Watch\\n  * ESPN+\\n\\n  * Fantasy BaseballFantasy Baseball\\n  * HomeHome\\n  * Rest-Of-Season RankingsRest-Of-Season Rankings\\n  * UndroppablesUndroppables\\n  * Player RaterPlayer Rater\\n  * 2021 Points Leaders2021 Points Leaders\\n  * Closer ChartCloser Chart\\n  * Depth ChartsDepth Charts\\n  * Most Added/DroppedMost Added/Dropped\\n  * Player NewsPlayer News\\n  * Dynasty RanksDynasty Ranks\\n  * Fantasy Baseball 101Fantasy Baseball 101\\n  * ESPN Live Draft TrendsESPN Live Draft Trends\\n  * MoreMore\\n\\n    * HelpHelp\\n\\nFantasy baseball daily notes: Pitcher and hitter rankings for Wednesday\\n\\n23hTodd Zola\\n\\nFantasy Focus Baseball: Injured Mets, Value Adds And Collapsing Closers\\n\\n2d\\n\\nFantasy baseball daily notes: Pitcher and hitter rankings for Thursday\\n\\n1hMike Sheets\\n\\nFantasy baseball rest-of-season rankings for 2021 points leagues\\n\\n9dAJ Mass\\n\\nGiants' Crawford goes on IL with oblique strain\\n\\nSan Francisco Giants\\n\\n2d\\n\\nMeans 'ready to go,' will start Tuesday for Orioles\\n\\nBaltimore Orioles\\n\\n2d\\n\\nMarlins' Chisholm, Cooper placed on 10-day IL\\n\\nMiami Marlins\\n\\n2d\\n\\n'Frustrated' deGrom to IL with forearm tightness\\n\\nNew York Mets\\n\\n3d\\n\\nDodgers' Betts 'fine' after exiting with hip irritation\\n\\nLos Angeles Dodgers\\n\\n4d\\n\\nMets put Lindor on 10-day IL with oblique strain\\n\\nNew York Mets\\n\\n4dAssociated Press\\n\\nCloser depth chart: All the latest moves\\n\\n4hFantasy Staff\\n\\n# Fantasy baseball daily notes: Pitcher and hitter rankings for Wednesday\\n\\nIf you're looking for a spot-starter on Wednesday, you may wish to strike with\\nMadison Bumgarner. AP\\n\\n  * Facebook\\n  * Twitter\\n  * Facebook Messenger\\n  *   * Email\\n\\n3:52 PM ET\\n\\n  * Todd ZolaFantasy \\n\\nClose\\n\\n    * Writing on fantasy baseball game theory and player analysis since 1997\\n    * Winner of the 2013 Fantasy Sports Writer's Association Best Baseball Article\\n\\nFollow on Twitter\\n\\n  *   * Facebook\\n  * Twitter\\n  * Facebook Messenger\\n  * Pinterest\\n  * Email\\n  * print\\n\\nDon't look now, but we have mid-week matinees in late July! Not only will the\\nSan Diego Padres and Atlanta Braves play an early game as part of a\\ndoubleheader, but there are five more afternoon tilts on \\\"getaway day\\\" for\\nmuch of the league. Please also note, however, that the Los Angeles Angels and\\nOakland Athletics do have Wednesday off after wrapping up a short two-game set\\non Tuesday.\\n\\nOfficial announcements of pitching plans have been slower than usual since the\\nbreak. One reason for this is that teams are beginning to monitor pitching\\nworkloads after last season's abbreviated campaign. While some delays are the\\nresult of teams still waiting to be sure that injured hurlers are truly ready\\nto return from the IL, others are simply the result of multiple pitchers being\\nrequired to step in unexpectedly in recent high-scoring affairs.\\n\\nLuckily, Wednesday's schedule is pretty well set, and there are a handful of\\nstreaming candidates -- plus the usual bevy of bats -- for you to consider,\\nall available in at least 50% of ESPN leagues.\\n\\n## Pitching\\n\\n# Editor's Picks\\n\\n  * ## Fantasy baseball bullpen watch: Should you worry about Edwin Diaz?\\n\\n1dEric Karabell\\n\\n  * ## How the weather should factor in your fantasy baseball lineup decisions\\n\\n42dDerek Carty\\n\\n1 Related\\n\\nMadison Bumgarner (L), rostered in 22% of ESPN leagues, Arizona Diamondbacks\\nvs. Pittsburgh Pirates: After convalescing on the IL for a month due to\\nshoulder inflammation, Bumgarner kicked off the season's second half with a\\nsolid effort, limiting the Cubs to just one earned run over six frames while\\nfanning six. The veteran left-hander draws another lesser lineup as the\\nPirates have the second-lowest wOBA versus lefties.\\n\\nErick Fedde (R), 3%, Washington Nationals vs. Miami Marlins: It may appear\\nthat we're cherry-picking selective endpoints here, but we really want to\\nhighlight Fedde's potential. Over nine starts from April 12 through June 18,\\nthe right-hander posted a 2.54 ERA and a 1.01 WHIP, punching out 48 batters in\\nthose 49 2/3 innings. Unfortunately, he was hit hard in his first 2021 start\\nand has struggled in his last four outings -- including a shellacking by the\\nPadres in his first start after the break. That said, the Marlins are a much\\neasier lineup to navigate as they sport the fifth-poorest wOBA, plus an above-\\naverage K-rate against right-handers.\\n\\nEric Lauer (L), 21%, Milwaukee Brewers vs. Kansas City Royals: This will be\\nLauer's first start since the break as he's been dealing with a fingernail\\nissue. In each of his prior three efforts, Lauer posted a quality,\\nsurrendering just two runs over 18 1/3 innings. That said, he only fanned 13\\nwith 10 walks in that span, though he didn't yield any home runs. The visiting\\nRoyals sport the eighth-lowest wOBA versus left-handers and will be without\\nthe DH in this interleague affair.\\n\\nMatt Manning (R), 4%, Detroit Tigers vs. Texas Rangers: Manning is in play\\nlargely due to a soft matchup. The Rangers are the sixth-least productive\\noffense with a right-hander on the hill. Manning is expected to be recalled\\nfor this start. The Tigers didn't need a fifth starter until Wednesday, so\\nthey had sent Manning back to Triple-A Toledo. The rookie did not end up\\npitching for the Mudhens, meaning his last outing came back on July 9 against\\nthe Twins. His five-game MLB ledger is marred by a disastrous outing against\\nCleveland, where he allowed nine runs in just 3 2/3 innings. Manning's long-\\nterm future is still bright. However, for now, he's best deployed only by\\nthose needing an extra start or two this week in head-to-head formats.\\n\\nBullpen: As has been the approach all season, next-in-line relievers on teams\\nplaying a pair of games are excellent targets to \\\"pitch and ditch.\\\" Mark\\nMelancon is the Padres primary closer, with Drew Pomeranz and Emilio Pagan\\nbeing the choices if San Diego skipper Jayce Tingler wants to look elsewhere\\nin the second game. Pomeranz just came off the IL, but fanned two in his first\\ninning back. Meanwhile, Pagan allowed two homers in his last appearance. This\\ngives the edge to Pomeranz. The Braves will no doubt call upon Will Smith if\\nneeded in the first game, perhaps turning to Chris Martin or Tyler Matzek, if\\na second close-out situation comes to pass.\\n\\nFor the latest team-by-team closer situations, please consult our Closer\\nChart.\\n\\n#\\n\\n## Starting Pitcher Projected Game Scores for July 21\\n\\nCalculating Bill James game scores: A pitcher starts with 50 points, gets a\\npoint for each out, two points for each inning completed after the fourth, and\\none point for each strikeout. He is docked two points for each hit, four\\npoints for each earned run allowed, two points for each unearned run allowed,\\nand one point for each walk.  \\nNote: In 2019 and 2020, the average game score was 50.\\n\\nGS\\n\\nTEAM\\n\\nNAME\\n\\nT\\n\\nOPP\\n\\nW-L\\n\\nERA\\n\\nWHIP  \\n  \\n60\\n\\nLance McCullers Jr.\\n\\nR\\n\\nCLE\\n\\n6-2\\n\\n2.94\\n\\n1.23  \\n  \\n55\\n\\nRobbie Ray\\n\\nL\\n\\nBOS\\n\\n7-4\\n\\n3.13\\n\\n1.05  \\n  \\n55\\n\\nJulio Urias\\n\\nL\\n\\nSF\\n\\n11-3\\n\\n3.64\\n\\n1.07  \\n  \\n54\\n\\nAdam Wainwright\\n\\nR\\n\\nCHC\\n\\n7-5\\n\\n3.58\\n\\n1.15  \\n  \\n54\\n\\nKyle Hendricks\\n\\nR\\n\\n@STL\\n\\n11-4\\n\\n3.77\\n\\n1.25  \\n  \\n53\\n\\nMichael Pineda\\n\\nR\\n\\n@CWS\\n\\n3-5\\n\\n4.11\\n\\n1.24  \\n  \\n52\\n\\nMadison Bumgarner\\n\\nL\\n\\nPIT\\n\\n4-5\\n\\n5.73\\n\\n1.26  \\n  \\n52\\n\\nChris Paddack\\n\\nR\\n\\n@ATL\\n\\n4-6\\n\\n5.38\\n\\n1.35  \\n  \\n51\\n\\nDylan Cease\\n\\nR\\n\\nMIN\\n\\n7-4\\n\\n4.11\\n\\n1.27  \\n  \\n50\\n\\nMax Kranick\\n\\nR\\n\\n@ARI\\n\\n1-1\\n\\n3.38\\n\\n0.88  \\n  \\n50\\n\\nAustin Gomber\\n\\nL\\n\\nSEA\\n\\n6-5\\n\\n3.68\\n\\n1.07  \\n  \\n50\\n\\nMarcus Stroman\\n\\nR\\n\\n@CIN\\n\\n6-7\\n\\n2.75\\n\\n1.12  \\n  \\n50\\n\\nMatt Moore\\n\\nL\\n\\n@NYY\\n\\n0-1\\n\\n5.40\\n\\n1.64  \\n  \\n50\\n\\nKyle Muller\\n\\nL\\n\\nSD\\n\\n1-2\\n\\n3.45\\n\\n1.09  \\n  \\n49\\n\\nKeynan Middleton\\n\\nR\\n\\n@COL\\n\\n0-0\\n\\n3.91\\n\\n1.13  \\n  \\n49\\n\\nEric Lauer\\n\\nL\\n\\nKC\\n\\n3-4\\n\\n3.83\\n\\n1.31  \\n  \\n49\\n\\nAlexander Wells\\n\\nL\\n\\n@TB\\n\\n1-0\\n\\n3.86\\n\\n1.93  \\n  \\n48\\n\\nReiss Knehr\\n\\nR\\n\\n@ATL\\n\\n0-0\\n\\n4.91\\n\\n1.91  \\n  \\n48\\n\\nMichael Wacha\\n\\nR\\n\\nBAL\\n\\n2-2\\n\\n4.87\\n\\n1.33  \\n  \\n48\\n\\nLogan Webb\\n\\nR\\n\\n@LAD\\n\\n4-3\\n\\n3.63\\n\\n1.23  \\n  \\n48\\n\\nJordan Lyles\\n\\nR\\n\\n@DET\\n\\n5-5\\n\\n4.86\\n\\n1.44  \\n  \\n48\\n\\nBrad Keller\\n\\nR\\n\\n@MIL\\n\\n6-9\\n\\n5.97\\n\\n1.76  \\n  \\n47\\n\\nAsher Wojciechowski\\n\\nR\\n\\nPHI\\n\\n\\\\--\\n\\n\\\\--\\n\\n\\\\--  \\n  \\n47\\n\\nEli Morgan\\n\\nR\\n\\n@HOU\\n\\n1-3\\n\\n8.44\\n\\n1.50  \\n  \\n47\\n\\nMatt Manning\\n\\nR\\n\\nTEX\\n\\n1-3\\n\\n6.95\\n\\n1.59  \\n  \\n46\\n\\nBryse Wilson\\n\\nR\\n\\nSD\\n\\n2-3\\n\\n5.34\\n\\n1.53  \\n  \\n45\\n\\nErick Fedde\\n\\nR\\n\\nMIA\\n\\n4-6\\n\\n4.59\\n\\n1.36  \\n  \\n44\\n\\nJeff Hoffman\\n\\nR\\n\\nNYM\\n\\n3-4\\n\\n4.61\\n\\n1.59  \\n  \\n42\\n\\nGarrett Richards\\n\\nR\\n\\n@TOR\\n\\n5-5\\n\\n4.91\\n\\n1.68  \\n  \\nTBD\\n\\n@WSH\\n\\n\\\\--\\n\\n\\\\--\\n\\n\\\\--  \\n  \\n## Hitting\\n\\nCatcher -- Jacob Stallings (R), 13%, Pittsburgh Pirates at Arizona\\nDiamondbacks (LHP Madison Bumgarner): Stallings spent most of the first half\\nin the four-hole against southpaws, but he's been batting sixth since the\\nemergence of first baseman John Nogowski (who is also an option against\\nBumgarner). Stallings has already set new personal-bests with eight homers and\\n40 RBI. He now sits just four runs shy of a new career-high in that\\ndepartment.\\n\\nFirst Base -- Pavin Smith (L), 29%, Arizona Diamondbacks vs. Pittsburgh\\nPirates (RHP Max Kranick): Smith has been hitting the ball hard since coming\\nout of the break, though mostly on the ground. He's also coaxed three walks in\\nthe last four games, a nice trait for points leagues. Kranick will be making\\nhis third major-league start. After registering five hitless frames against\\nthe Cardinals in his debut, Kranick was hit hard by the Mets, serving up three\\nruns in three innings on four hits and three walks.\\n\\nSecond Base -- Donovan Solano (R), 3%, San Francisco Giants at Los Angeles\\nDodgers (LHP Julio Urias): In recent games, the platoon-happy Giants have been\\nbatting Solano second against left-handers. He's responded with a\\n.323/.364/.355 line over the past eight games.\\n\\nThird Base -- Hunter Dozier (R), 21%, Kansas City Royals at Milwaukee Brewers\\n(LHP Eric Lauer): There are always a handful of hitters who get released by\\nfrustrated team managers, only to be picked up by a competitor just before the\\nplayer rights the ship. Dozier is shaping up to be such an example. He entered\\nJuly hitting .160/.227/.329 before posting a .348/.404/.522 line this month\\n(through Monday's action).\\n\\nShortstop -- Paul DeJong (R), 39%, St. Louis Cardinals vs. Chicago Cubs (RHP\\nKyle Hendricks): Heading into the break, DeJong was highlighted a few times in\\nthis space, with the expectation that a power surge was forthcoming. That\\nanalysis proved to be prescient as the shortstop homered twice in the final\\nweekend of the first half before going yard again last Sunday. Expect more of\\nthe same over the rest of the second half.\\n\\nCorner Infield -- Gavin Sheets (L), 5%, Chicago White Sox vs. Minnesota Twins\\n(RHP Michael Pineda): Sheets no doubt hears footsteps as Luis Robert and Eloy\\nJimenez are both nearing a return. Perhaps it is this added incentive which is\\nfueling his recent heroics, as Sheets has left the yard three times in his\\nlast seven games, including a walk-off three run shot on Monday. After not\\nsurrendering any homers in 26 2/3 frames last season, Pineda has already\\nserved up 11 blasts in 61 1/3 innings this year.\\n\\nMiddle Infield -- Enrique Hernandez (R), 38%, Boston Red Sox at Toronto Blue\\nJays (LHP Robbie Ray): Being reinstalled at the top of the order has agreed\\nwith Hernandez, as demonstrated by a .279/.410/.662 line since June 27. But\\nwait, there's more! In old-school leadoff fashion, Hernandez has walked 14\\ntimes (with only 12 strikeouts) in his 83 plate appearances over this 18-game\\nspan.\\n\\nOutfield -- Akil Baddoo (L), 35%, Detroit Tigers vs. Texas Rangers (RHP Jordan\\nLyles): The Tigers have been playing good ball after the break, in large part\\nthanks to Baddoo's work at leadoff. He's hit safely in his three starts\\n(5-for-13, .385) and, for the season, he has recorded a .956 OPS with the\\nplatoon edge -- including all seven of his homers.\\n\\nOutfield -- Jackie Bradley Jr. (L), 8%, Milwaukee Brewers vs. Kansas City\\nRoyals (RHP Brad Keller): Bradley's formula is straightforward. When he's not\\nstriking out, he's productive. Heading into the break, Bradley had only\\nwhiffed three times in 22 plate appearances, but was not rewarded with many\\nhits. Post break, he's fanned just twice in 13 trips to the dish, while\\nrecording a pair of multiple-hit games. Anticipating a streak is often a\\nfool's errand, however doing so against a right-hander with a 5.97 ERA and a\\n1.76 WHIP? Well, that certainly increases the chance for success.\\n\\nOutfield -- Bradley Zimmer (L), 2%, Cleveland at Houston Astros (RHP Lance\\nMcCullers Jr.): Zimmer has quietly posted a .360/.407/.600 line over the past\\nweek, also chipping in with a couple of steals. As is the case with most young\\nleft-handed batters, Zimmer is more productive with the platoon edge.\\n\\n#\\n\\n## Hitter Matchup Ratings for July 21\\n\\nHitter ratings account for the opposing starting pitcher's past history (three\\nyears' worth as well as past 21 days) as well as ballpark factors. \\\"LH\\\" and\\n\\\"RH\\\" ratings account only for left- and right-handed batters, respectively.\\nWeighted on-base average (wOBA) is the primary statistic used in the\\ncalculation. Ratings range from 1-10, with 10 representing the best possible\\nmatchup, statistically speaking, and 1 representing the worst. So, for\\nexample, a 10 is a must-start rating, while a 1 should be avoided (if\\npossible); a 1-2 is poor, 3-4 is fair, 5-6 is average, 7-8 is very good and\\n9-10 is excellent.\\n\\nTEAM\\n\\nOPP\\n\\nOVERALL\\n\\nLHB\\n\\nRHB\\n\\nSB  \\n  \\nPIT\\n\\n6\\n\\n8\\n\\n6\\n\\n4  \\n  \\nSD\\n\\n4\\n\\n3\\n\\n5\\n\\n8  \\n  \\n@TB\\n\\n5\\n\\n6\\n\\n5\\n\\n6  \\n  \\n@TOR\\n\\n5\\n\\n1\\n\\n8\\n\\n8  \\n  \\n@STL\\n\\n4\\n\\n7\\n\\n2\\n\\n1  \\n  \\nMIN\\n\\n4\\n\\n4\\n\\n5\\n\\n7  \\n  \\nNYM\\n\\n5\\n\\n6\\n\\n4\\n\\n7  \\n  \\n@HOU\\n\\n3\\n\\n2\\n\\n2\\n\\n1  \\n  \\nSEA\\n\\n7\\n\\n8\\n\\n7\\n\\n9  \\n  \\nTEX\\n\\n8\\n\\n9\\n\\n7\\n\\n6  \\n  \\nCLE\\n\\n6\\n\\n5\\n\\n7\\n\\n1  \\n  \\n@MIL\\n\\n5\\n\\n6\\n\\n4\\n\\n5  \\n  \\nOFF  \\n  \\nSF\\n\\n4\\n\\n4\\n\\n4\\n\\n9  \\n  \\n@WSH\\n\\n9\\n\\n8\\n\\n8\\n\\n10  \\n  \\nKC\\n\\n8\\n\\n8\\n\\n7\\n\\n1  \\n  \\n@CWS\\n\\n4\\n\\n4\\n\\n5\\n\\n10  \\n  \\n@CIN\\n\\n10\\n\\n9\\n\\n10\\n\\n10  \\n  \\nPHI\\n\\n6\\n\\n4\\n\\n7\\n\\n1  \\n  \\nOFF  \\n  \\n@NYY\\n\\n7\\n\\n7\\n\\n6\\n\\n2  \\n  \\n@ARI\\n\\n7\\n\\n3\\n\\n8\\n\\n10  \\n  \\nCHC\\n\\n2\\n\\n1\\n\\n2\\n\\n3  \\n  \\n@ATL\\n\\n5\\n\\n5\\n\\n4\\n\\n6  \\n  \\n@LAD\\n\\n2\\n\\n5\\n\\n2\\n\\n10  \\n  \\n@COL\\n\\n8\\n\\n9\\n\\n7\\n\\n1  \\n  \\nBAL\\n\\n7\\n\\n7\\n\\n8\\n\\n1  \\n  \\n@DET\\n\\n8\\n\\n7\\n\\n9\\n\\n4  \\n  \\nBOS\\n\\n8\\n\\n7\\n\\n8\\n\\n5  \\n  \\nMIA\\n\\n7\\n\\n7\\n\\n7\\n\\n2  \\n  \\n  * Facebook\\n  * Twitter\\n  * Facebook Messenger\\n  *   * Email\\n\\n  * Terms of Use\\n  * Privacy Policy\\n  * Your California Privacy Rights\\n  * Children's Online Privacy Policy\\n  * Interest-Based Ads\\n  * About Nielsen Measurement\\n  * Do Not Sell My Info\\n  * Contact Us\\n  * Disney Ad Sales Site\\n\\nCopyright: \\u00a9 ESPN Enterprises, Inc. All rights reserved.\\n\\n\", \"url\": \"https://www.espn.com/fantasy/baseball/story/_/id/31847363/fantasy-baseball-daily-notes-pitcher-hitter-rankings-wednesday\"}]}"
          ],
          "name": "stdout"
        }
      ]
    },
    {
      "cell_type": "code",
      "metadata": {
        "colab": {
          "base_uri": "https://localhost:8080/"
        },
        "id": "D12RVzIFAF5C",
        "outputId": "e414497d-a5b9-41cc-9577-1b91f472d73c"
      },
      "source": [
        "!python -m parlai interactive --model-file zoo:blenderbot2/blenderbot2_400M/model --search_server $HOST"
      ],
      "execution_count": null,
      "outputs": [
        {
          "output_type": "stream",
          "text": [
            "19:15:14 | \u001b[33mOverriding opt[\"model_file\"] to /usr/local/lib/python3.7/dist-packages/data/models/blenderbot2/blenderbot2_400M/model (previously: /checkpoint/kshuster/projects/knowledge_bot/kbot_memfix_sweep25_Fri_Jul__9/338/model.oss)\u001b[0m\n",
            "19:15:14 | \u001b[33mOverriding opt[\"search_server\"] to 0.0.0.0:1111 (previously: None)\u001b[0m\n",
            "19:15:14 | loading dictionary from /usr/local/lib/python3.7/dist-packages/data/models/blenderbot2/blenderbot2_400M/model.dict\n",
            "19:15:14 | num words = 50264\n",
            "19:15:15 | BlenderBot2Fid: full interactive mode on.\n",
            "Traceback (most recent call last):\n",
            "  File \"/usr/lib/python3.7/runpy.py\", line 193, in _run_module_as_main\n",
            "    \"__main__\", mod_spec)\n",
            "  File \"/usr/lib/python3.7/runpy.py\", line 85, in _run_code\n",
            "    exec(code, run_globals)\n",
            "  File \"/usr/local/lib/python3.7/dist-packages/parlai/__main__.py\", line 18, in <module>\n",
            "    main()\n",
            "  File \"/usr/local/lib/python3.7/dist-packages/parlai/__main__.py\", line 14, in main\n",
            "    superscript_main()\n",
            "  File \"/usr/local/lib/python3.7/dist-packages/parlai/core/script.py\", line 325, in superscript_main\n",
            "    return SCRIPT_REGISTRY[cmd].klass._run_from_parser_and_opt(opt, parser)\n",
            "  File \"/usr/local/lib/python3.7/dist-packages/parlai/core/script.py\", line 108, in _run_from_parser_and_opt\n",
            "    return script.run()\n",
            "  File \"/usr/local/lib/python3.7/dist-packages/parlai/scripts/interactive.py\", line 118, in run\n",
            "    return interactive(self.opt)\n",
            "  File \"/usr/local/lib/python3.7/dist-packages/parlai/scripts/interactive.py\", line 84, in interactive\n",
            "    agent = create_agent(opt, requireModelExists=True)\n",
            "  File \"/usr/local/lib/python3.7/dist-packages/parlai/core/agents.py\", line 468, in create_agent\n",
            "    model = create_agent_from_opt_file(opt)\n",
            "  File \"/usr/local/lib/python3.7/dist-packages/parlai/core/agents.py\", line 421, in create_agent_from_opt_file\n",
            "    return model_class(opt_from_file)\n",
            "  File \"/usr/local/lib/python3.7/dist-packages/parlai/agents/rag/rag.py\", line 174, in __init__\n",
            "    self._generation_agent.__init__(self, opt, shared)  # type: ignore\n",
            "  File \"/usr/local/lib/python3.7/dist-packages/parlai/agents/bart/bart.py\", line 72, in __init__\n",
            "    super().__init__(opt, shared)\n",
            "  File \"/usr/local/lib/python3.7/dist-packages/parlai/core/torch_generator_agent.py\", line 484, in __init__\n",
            "    self.model = fsdp_utils.fsdp_wrap(self.build_model())\n",
            "  File \"/usr/local/lib/python3.7/dist-packages/projects/blenderbot2/agents/blenderbot2.py\", line 885, in build_model\n",
            "    model = BlenderBot2FidModel(self.opt, self.dict)\n",
            "  File \"/usr/local/lib/python3.7/dist-packages/projects/blenderbot2/agents/modules.py\", line 81, in __init__\n",
            "    super().__init__(opt, dictionary, retriever_shared)\n",
            "  File \"/usr/local/lib/python3.7/dist-packages/parlai/agents/fid/fid.py\", line 68, in __init__\n",
            "    super().__init__(opt, dictionary, retriever_shared=retriever_shared)\n",
            "  File \"/usr/local/lib/python3.7/dist-packages/parlai/agents/rag/modules.py\", line 90, in __init__\n",
            "    opt, embedding=self.embeddings, padding_idx=self.pad_idx\n",
            "  File \"/usr/local/lib/python3.7/dist-packages/parlai/agents/rag/modules.py\", line 122, in build_decoder\n",
            "    return RagDecoder(opt=opt, embedding=embedding, n_positions=n_positions)\n",
            "  File \"/usr/local/lib/python3.7/dist-packages/parlai/agents/transformer/modules/modular.py\", line 64, in __init__\n",
            "    super().__init__(*args, **kwargs)\n",
            "  File \"/usr/local/lib/python3.7/dist-packages/parlai/agents/transformer/modules/decoder.py\", line 276, in __init__\n",
            "    self.layers = self.build_layers()\n",
            "  File \"/usr/local/lib/python3.7/dist-packages/parlai/agents/transformer/modules/decoder.py\", line 287, in build_layers\n",
            "    variant=self.variant,\n",
            "  File \"/usr/local/lib/python3.7/dist-packages/parlai/agents/transformer/modules/modular.py\", line 64, in __init__\n",
            "    super().__init__(*args, **kwargs)\n",
            "  File \"/usr/local/lib/python3.7/dist-packages/parlai/agents/transformer/modules/decoder.py\", line 93, in __init__\n",
            "    activation=activation,\n",
            "  File \"/usr/local/lib/python3.7/dist-packages/parlai/agents/transformer/modules/ffn.py\", line 54, in __init__\n",
            "    nn.init.xavier_uniform_(self.lin1.weight)\n",
            "  File \"/usr/local/lib/python3.7/dist-packages/torch/nn/init.py\", line 321, in xavier_uniform_\n",
            "    return _no_grad_uniform_(tensor, -a, a)\n",
            "  File \"/usr/local/lib/python3.7/dist-packages/torch/nn/init.py\", line 14, in _no_grad_uniform_\n",
            "    return tensor.uniform_(a, b)\n",
            "KeyboardInterrupt\n"
          ],
          "name": "stdout"
        }
      ]
    },
    {
      "cell_type": "code",
      "metadata": {
        "id": "f2IuHcvcD_sd"
      },
      "source": [
        ""
      ],
      "execution_count": null,
      "outputs": []
    }
  ]
}